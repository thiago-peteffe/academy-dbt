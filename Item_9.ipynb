{
 "cells": [
  {
   "cell_type": "code",
   "execution_count": 9,
   "metadata": {},
   "outputs": [
    {
     "name": "stderr",
     "output_type": "stream",
     "text": [
      "/home/thiago/projects/desafio_lh/ds-venv/lib/python3.10/site-packages/google/cloud/bigquery/table.py:1820: UserWarning: BigQuery Storage module not found, fetch data with the REST endpoint instead.\n",
      "  warnings.warn(\n"
     ]
    },
    {
     "name": "stdout",
     "output_type": "stream",
     "text": [
      "  nome_produto                   nome_cliente   ano  mes  data_base  \\\n",
      "0        Chain  Technical Parts Manufacturing  2014    3 2014-03-01   \n",
      "1        Chain            Exhibition Showroom  2014    3 2014-03-01   \n",
      "2        Chain            Real Sporting Goods  2014    3 2014-03-01   \n",
      "3        Chain       Cycles Wholesaler & Mfg.  2014    3 2014-03-01   \n",
      "4        Chain            Mountain Bike Store  2014    3 2014-03-01   \n",
      "\n",
      "   quantidade  \n",
      "0           3  \n",
      "1           5  \n",
      "2           3  \n",
      "3           2  \n",
      "4           1  \n"
     ]
    }
   ],
   "source": [
    "# Importação do dataset, considerando somente os produtos que tiveram mais de 5 registros de venda por cliente no intevalo de tempo\n",
    "\n",
    "from google.cloud import bigquery\n",
    "import pandas as pd\n",
    "\n",
    "client = bigquery.Client()\n",
    "\n",
    "query = \"\"\"\n",
    "select \n",
    "    nome_produto\n",
    "    , nome_cliente\n",
    "    , ano\n",
    "    , mes\n",
    "    , data_base\n",
    "    , quantidade\n",
    "FROM `desafio-lh-445918`.public.agg_quantidade_loja\n",
    "\"\"\"\n",
    "df = client.query(query).to_dataframe()\n",
    "\n",
    "df['data_base'] = pd.to_datetime(df['data_base'])\n",
    "\n",
    "print(df.head())\n"
   ]
  },
  {
   "cell_type": "code",
   "execution_count": 12,
   "metadata": {},
   "outputs": [
    {
     "name": "stdout",
     "output_type": "stream",
     "text": [
      "MAE: 2.0696926769768726\n",
      "MSE: 8.939433811925065\n",
      "RMSE: 2.989888595236462\n",
      "R²: 0.003873914506887788\n"
     ]
    }
   ],
   "source": [
    "from sklearn.linear_model import LinearRegression\n",
    "from sklearn.metrics import mean_absolute_error, mean_squared_error, r2_score\n",
    "from sklearn.model_selection import train_test_split\n",
    "import numpy as np\n",
    "\n",
    "# Seleção das variáveis para o modelo\n",
    "df['mes_num'] = df['data_base'].dt.month\n",
    "df['ano_num'] = df['data_base'].dt.year\n",
    "\n",
    "# Variáveis independentes (X) e dependente (y)\n",
    "X = df[['ano_num', 'mes_num']]  # Ano e Mês como variáveis explicativas\n",
    "y = df['quantidade']  # Quantidade como variável alvo\n",
    "\n",
    "# Divisão dos dados em treinamento e teste\n",
    "X_train, X_test, y_train, y_test = train_test_split(X, y, test_size=0.2, random_state=42)\n",
    "\n",
    "# Treinamento do modelo de Regressão Linear\n",
    "model = LinearRegression()\n",
    "model.fit(X_train, y_train)\n",
    "\n",
    "# Previsões\n",
    "y_pred = model.predict(X_test)\n",
    "\n",
    "# Cálculo das métricas\n",
    "mae = mean_absolute_error(y_test, y_pred)\n",
    "mse = mean_squared_error(y_test, y_pred)\n",
    "rmse = np.sqrt(mse)\n",
    "r2 = r2_score(y_test, y_pred)\n",
    "\n",
    "# Exibindo as métricas\n",
    "print(f'MAE: {mae}')\n",
    "print(f'MSE: {mse}')\n",
    "print(f'RMSE: {rmse}')\n",
    "print(f'R²: {r2}')\n"
   ]
  }
 ],
 "metadata": {
  "kernelspec": {
   "display_name": "ds-venv",
   "language": "python",
   "name": "python3"
  },
  "language_info": {
   "codemirror_mode": {
    "name": "ipython",
    "version": 3
   },
   "file_extension": ".py",
   "mimetype": "text/x-python",
   "name": "python",
   "nbconvert_exporter": "python",
   "pygments_lexer": "ipython3",
   "version": "3.10.12"
  }
 },
 "nbformat": 4,
 "nbformat_minor": 2
}
